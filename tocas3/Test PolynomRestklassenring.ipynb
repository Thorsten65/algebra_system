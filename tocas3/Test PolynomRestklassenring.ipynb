{
 "cells": [
  {
   "cell_type": "code",
   "execution_count": 1,
   "metadata": {},
   "outputs": [],
   "source": [
    "from Tocas import *"
   ]
  },
  {
   "cell_type": "markdown",
   "metadata": {},
   "source": [
    "## GGT"
   ]
  },
  {
   "cell_type": "code",
   "execution_count": 2,
   "metadata": {},
   "outputs": [
    {
     "name": "stdout",
     "output_type": "stream",
     "text": [
      "(49/9)  in Q[x]\n"
     ]
    }
   ],
   "source": [
    "Z = Bruchzahlring()\n",
    "P = Polynomring(Z)\n",
    "a = PolynomringElement([7, 3, 1], P)\n",
    "b = PolynomringElement([7, 3], P)\n",
    "ggT = Polynomring.ext_ggt(a, b)\n",
    "print(ggT)"
   ]
  },
  {
   "cell_type": "code",
   "execution_count": 3,
   "metadata": {},
   "outputs": [
    {
     "data": {
      "text/plain": [
       "((9/7) + (27/49)*x + (9/49)*x^2  in Q[x], 0/1  in Q[x])"
      ]
     },
     "execution_count": 3,
     "metadata": {},
     "output_type": "execute_result"
    }
   ],
   "source": [
    "q, r = Polynomring.polynom_division(a, ggT)\n",
    "q, r"
   ]
  },
  {
   "cell_type": "code",
   "execution_count": 4,
   "metadata": {},
   "outputs": [
    {
     "data": {
      "text/plain": [
       "((9/7) + (27/49)*x  in Q[x], 0/1  in Q[x])"
      ]
     },
     "execution_count": 4,
     "metadata": {},
     "output_type": "execute_result"
    }
   ],
   "source": [
    "q, r = Polynomring.polynom_division(b, ggT)\n",
    "q, r"
   ]
  },
  {
   "cell_type": "markdown",
   "metadata": {},
   "source": [
    "## PolynomRestklassenring"
   ]
  },
  {
   "cell_type": "markdown",
   "metadata": {},
   "source": [
    "#### Beispiel Bruchzahlring"
   ]
  },
  {
   "cell_type": "code",
   "execution_count": 5,
   "metadata": {},
   "outputs": [
    {
     "name": "stdout",
     "output_type": "stream",
     "text": [
      "Q[x]/((3/1) + (1/1)*x + (1/1)*x^2)\n",
      "(1/1) in Q[x]/((3/1) + (1/1)*x + (1/1)*x^2)\n",
      "0/1 in Q[x]/((3/1) + (1/1)*x + (1/1)*x^2)\n"
     ]
    }
   ],
   "source": [
    "Z = Bruchzahlring()\n",
    "P = Polynomring(Z)\n",
    "f = PolynomringElement([3, 1, 1], P)\n",
    "K = PolynomRestklassenring(P, f)\n",
    "print(K)\n",
    "print(K.eins)\n",
    "print(K.null)"
   ]
  },
  {
   "cell_type": "code",
   "execution_count": 6,
   "metadata": {},
   "outputs": [],
   "source": [
    "Z = Bruchzahlring()\n",
    "P = Polynomring(Z)\n",
    "f2 = PolynomringElement([3, 1, 1], P)\n",
    "K2 = PolynomRestklassenring(P, f2)"
   ]
  },
  {
   "cell_type": "markdown",
   "metadata": {},
   "source": [
    "#### Erstellen von PolynomRestklassenringElementen"
   ]
  },
  {
   "cell_type": "code",
   "execution_count": 7,
   "metadata": {},
   "outputs": [
    {
     "data": {
      "text/plain": [
       "0/1 in Q[x]/((3/1) + (1/1)*x + (1/1)*x^2)"
      ]
     },
     "execution_count": 7,
     "metadata": {},
     "output_type": "execute_result"
    }
   ],
   "source": [
    "p = PolynomringElement([1, 1], P)\n",
    "pRE = PolynomRestklassenringElement(p, K)\n",
    "pRE"
   ]
  },
  {
   "cell_type": "code",
   "execution_count": 8,
   "metadata": {},
   "outputs": [
    {
     "data": {
      "text/plain": [
       "(4/1) + (-1/1)*x in Q[x]/((3/1) + (1/1)*x + (1/1)*x^2)"
      ]
     },
     "execution_count": 8,
     "metadata": {},
     "output_type": "execute_result"
    }
   ],
   "source": [
    "p = PolynomringElement([1, 1, 0, 1], P)\n",
    "_pRE = PolynomRestklassenringElement(p, K)\n",
    "_pRE"
   ]
  },
  {
   "cell_type": "code",
   "execution_count": 9,
   "metadata": {},
   "outputs": [
    {
     "data": {
      "text/plain": [
       "0/1 in Q[x]/((3/1) + (1/1)*x + (1/1)*x^2)"
      ]
     },
     "execution_count": 9,
     "metadata": {},
     "output_type": "execute_result"
    }
   ],
   "source": [
    "p2 = PolynomringElement([2, 1], P)\n",
    "_pRE2 = PolynomRestklassenringElement(p2, K2)\n",
    "PolynomRestklassenringElement(_pRE2, K)"
   ]
  },
  {
   "cell_type": "code",
   "execution_count": 10,
   "metadata": {},
   "outputs": [
    {
     "data": {
      "text/plain": [
       "0/1 in Q[x]/((3/1) + (1/1)*x + (1/1)*x^2)"
      ]
     },
     "execution_count": 10,
     "metadata": {},
     "output_type": "execute_result"
    }
   ],
   "source": [
    "PolynomRestklassenringElement(BruchzahlringElement(1,1,Z), K)"
   ]
  },
  {
   "cell_type": "code",
   "execution_count": 11,
   "metadata": {},
   "outputs": [
    {
     "data": {
      "text/plain": [
       "0/1 in Q[x]/((3/1) + (1/1)*x + (1/1)*x^2)"
      ]
     },
     "execution_count": 11,
     "metadata": {},
     "output_type": "execute_result"
    }
   ],
   "source": [
    "PolynomRestklassenringElement((BruchzahlringElement(1,1,Z), BruchzahlringElement(1,9, Z)), K)"
   ]
  },
  {
   "cell_type": "markdown",
   "metadata": {},
   "source": [
    "#### Beispiel GanzzahlRestklasenring"
   ]
  },
  {
   "cell_type": "code",
   "execution_count": 12,
   "metadata": {},
   "outputs": [
    {
     "name": "stdout",
     "output_type": "stream",
     "text": [
      "Z/4Z\n",
      "Z/4Z[x]/([3] + [1]*x)\n",
      "[1] in Z/4Z[x]/([3] + [1]*x)\n",
      "[0] in Z/4Z[x]/([3] + [1]*x)\n"
     ]
    }
   ],
   "source": [
    "Z = GanzzahlRestklassenring(4)\n",
    "print(Z)\n",
    "P = Polynomring(Z)\n",
    "f = PolynomringElement([7, 1], P)\n",
    "K = PolynomRestklassenring(P, f)\n",
    "print(K)\n",
    "print(K.eins)\n",
    "print(K.null)"
   ]
  },
  {
   "cell_type": "markdown",
   "metadata": {},
   "source": [
    "#### Erstellen von PolynomRestklassenringElement"
   ]
  },
  {
   "cell_type": "code",
   "execution_count": 13,
   "metadata": {},
   "outputs": [
    {
     "data": {
      "text/plain": [
       "[2] in Z/4Z[x]/([3] + [1]*x)"
      ]
     },
     "execution_count": 13,
     "metadata": {},
     "output_type": "execute_result"
    }
   ],
   "source": [
    "p = PolynomringElement([1, 1], P)\n",
    "pRE = PolynomRestklassenringElement(p, K)\n",
    "pRE"
   ]
  },
  {
   "cell_type": "code",
   "execution_count": 14,
   "metadata": {},
   "outputs": [
    {
     "data": {
      "text/plain": [
       "[3] in Z/4Z[x]/([3] + [1]*x)"
      ]
     },
     "execution_count": 14,
     "metadata": {},
     "output_type": "execute_result"
    }
   ],
   "source": [
    "p = PolynomringElement([1, 1, 0, 1], P)\n",
    "_pRE = PolynomRestklassenringElement(p, K)\n",
    "_pRE"
   ]
  },
  {
   "cell_type": "code",
   "execution_count": 15,
   "metadata": {},
   "outputs": [
    {
     "data": {
      "text/plain": [
       "[0] in Z/4Z[x]/([3] + [1]*x)"
      ]
     },
     "execution_count": 15,
     "metadata": {},
     "output_type": "execute_result"
    }
   ],
   "source": [
    "PolynomRestklassenringElement(PolynomringElement(2, P), K)"
   ]
  },
  {
   "cell_type": "code",
   "execution_count": 16,
   "metadata": {},
   "outputs": [
    {
     "data": {
      "text/plain": [
       "[0] in Z/4Z[x]/([3] + [1]*x)"
      ]
     },
     "execution_count": 16,
     "metadata": {},
     "output_type": "execute_result"
    }
   ],
   "source": [
    "PolynomRestklassenringElement(GanzzahlRestklassenringElement(3, Z), K)"
   ]
  },
  {
   "cell_type": "code",
   "execution_count": 17,
   "metadata": {},
   "outputs": [
    {
     "data": {
      "text/plain": [
       "[3] in Z/4Z[x]/([3] + [1]*x)"
      ]
     },
     "execution_count": 17,
     "metadata": {},
     "output_type": "execute_result"
    }
   ],
   "source": [
    "PolynomRestklassenringElement((GanzzahlRestklassenringElement(4, Z), \n",
    "                               GanzzahlRestklassenringElement(9, Z),\n",
    "                               GanzzahlRestklassenringElement(2, Z)), K)"
   ]
  },
  {
   "cell_type": "markdown",
   "metadata": {},
   "source": [
    "### Random"
   ]
  },
  {
   "cell_type": "code",
   "execution_count": 18,
   "metadata": {},
   "outputs": [
    {
     "data": {
      "text/plain": [
       "[3] in Z/4Z[x]/([3]*x + [1]*x^2)"
      ]
     },
     "execution_count": 18,
     "metadata": {},
     "output_type": "execute_result"
    }
   ],
   "source": [
    "Z = GanzzahlRestklassenring(4)\n",
    "P = Polynomring(Z)\n",
    "f = PolynomringElement([8, 7, 1], P)\n",
    "K = PolynomRestklassenring(P, f)\n",
    "K.random()"
   ]
  }
 ],
 "metadata": {
  "kernelspec": {
   "display_name": "Python 3",
   "language": "python",
   "name": "python3"
  },
  "language_info": {
   "codemirror_mode": {
    "name": "ipython",
    "version": 3
   },
   "file_extension": ".py",
   "mimetype": "text/x-python",
   "name": "python",
   "nbconvert_exporter": "python",
   "pygments_lexer": "ipython3",
   "version": "3.7.2"
  }
 },
 "nbformat": 4,
 "nbformat_minor": 2
}
