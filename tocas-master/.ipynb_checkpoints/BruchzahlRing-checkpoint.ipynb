{
 "cells": [
  {
   "cell_type": "code",
   "execution_count": 1,
   "metadata": {},
   "outputs": [],
   "source": [
    "from AbstrakteRinge import *"
   ]
  },
  {
   "cell_type": "code",
   "execution_count": 13,
   "metadata": {},
   "outputs": [],
   "source": [
    "class BruchzahlRing(Ring):\n",
    "    def __init__(self):\n",
    "        \"\"\"Erstellt ein Bruchzahlring mit dem Identitaetselement fuer die Multiplikation\n",
    "        sowie die Addition.\n",
    "        \n",
    "        \"\"\"\n",
    "        self.null = BruchzahlRingElement(self, 0, 1)\n",
    "        self.eins = BruchzahlRingElement(self, 1, 1)\n",
    "        self._frier()\n",
    "        \n",
    "    def __eq__(self, other):\n",
    "        \"\"\"Vergleicht ob zwei Bruchzahlringe identisch sind. In dem der Vergleich der \n",
    "        Basisklasse aufgerufen wird.\n",
    "        \n",
    "        \"\"\"\n",
    "        if not super().__eq__(other):\n",
    "            return False\n",
    "        return True\n",
    "    \n",
    "    def element(self, a, b):\n",
    "        \"\"\"Erstellt ein Element aus dem Bruchzahlring. Mit den uebergebene Parametern fuer\n",
    "        den Nenner sowie den Zaehler.\n",
    "        \n",
    "        \"\"\"\n",
    "        return BruchzahlRingElement(self, a, b)\n",
    "        \n",
    "    def __str__(self):\n",
    "        \"\"\"Gibt die Stringrepraesentation des Bruchzahlringes wieder. Welche\n",
    "        die Abkuerzung fuer die rationalen Zahlen ist. \n",
    "        \n",
    "        \"\"\"\n",
    "        return \"Q\""
   ]
  },
  {
   "cell_type": "code",
   "execution_count": 102,
   "metadata": {},
   "outputs": [],
   "source": [
    "class BruchzahlRingElement(RingElement):\n",
    "    def __init__(self, bruchzahlring, a, b=1):\n",
    "        \"\"\"Ein Bruchzahlelement muss sich innerhalb eines Bruchzahlringes abbilden.\n",
    "        \n",
    "        a (int): Der Zaehler des Bruches.\n",
    "        b (int): Der Nenner des Bruches. Als Default-Schluesselwort wird die eins\n",
    "            definiert.\n",
    "        \n",
    "        \"\"\"\n",
    "        if not isinstance(bruchzahlring, BruchzahlRing):\n",
    "            message = \"Der Konstruktor mit mit einem BruchzahlRing initialisiert werden.\"\n",
    "            raise TypeError(message)\n",
    "        self.ring = bruchzahlring\n",
    "        \n",
    "        if not isinstance(a, int) or not isinstance(b, int):\n",
    "            message = \"Zaehler und Nenner muessen Ganze Zahlen sein.\"\n",
    "            raise RuntimeError(message)\n",
    "        \n",
    "        elif b == 0:\n",
    "            message = \"Nenner darf nicht gleich der Zahl Null sein.\"\n",
    "            raise RuntimeError(message)\n",
    "        \n",
    "        \n",
    "        ggT = Ganzzahlring.ext_ggT(a, b)\n",
    "        self.zaehler = int(a / ggT[0])\n",
    "        self.nenner = int(b / ggT[0])\n",
    "        self._frier()\n",
    "            \n",
    "        \n",
    "    def __eq__(self, other):\n",
    "        return self.zaehler == other.zaehler and self.nenner == other.nenner    \n",
    "    \n",
    "    def __neg__(self):\n",
    "        return BruchzahlRingElement(self.ring, -self.zaehler, self.nenner)\n",
    "    \n",
    "    def drucke_element(self):\n",
    "        return \"[{:d}/{:d}]\".format(self.zaehler, self.nenner)\n",
    "    \n",
    "    def __radd__(self, other):\n",
    "        new_zaehler = self.zaehler*other.nenner + self.nenner*other.zaehler\n",
    "        new_nenner = self.nenner*self.zaehler\n",
    "        return BruchzahlRingElement(self.ring, new_zaehler, new_nenner)\n",
    "        \n",
    "    def __rmul__(self, other):\n",
    "        new_zaehler = self.zaehler*other.zaehler\n",
    "        new_nenner = self.nenner*other.nenner\n",
    "        return BruchzahlRingElement(self.ring, new_zaehler, new_nenner)\n",
    "    \n",
    "    def __rsub(self, other):\n",
    "        new_zaehler = self.zaehler*other.nenner - self.nenner*other.zaehler\n",
    "        new_nenner = self.nenner*self.zaehler\n",
    "        return BruchzahlRingElement(self.ring, new_zaehler, new_nenner)\n",
    "    \n",
    "    \n",
    "    def invers(self):\n",
    "        return self.__neg__()\n",
    "    \n",
    "    def invers_mul(self):\n",
    "        if self.zaehler != 0:\n",
    "            return BruchzahlRingElement(self.ring, self.nenner, self.zaehler)\n",
    "    "
   ]
  },
  {
   "cell_type": "code",
   "execution_count": 108,
   "metadata": {},
   "outputs": [
    {
     "name": "stdout",
     "output_type": "stream",
     "text": [
      "True\n",
      "[1/30]  in Q\n"
     ]
    }
   ],
   "source": [
    "Q = BruchzahlRing()\n",
    "Q2 = BruchzahlRing()\n",
    "print(Q == Q2)\n",
    "print(Q.element(10, 300))"
   ]
  },
  {
   "cell_type": "code",
   "execution_count": 98,
   "metadata": {},
   "outputs": [
    {
     "name": "stdout",
     "output_type": "stream",
     "text": [
      "[0/1]  in Q\n",
      "[1/1]  in Q\n"
     ]
    }
   ],
   "source": [
    "print(Q.null)\n",
    "print(Q2.eins)"
   ]
  },
  {
   "cell_type": "code",
   "execution_count": 99,
   "metadata": {},
   "outputs": [
    {
     "data": {
      "text/plain": [
       "[2/1]  in Q"
      ]
     },
     "execution_count": 99,
     "metadata": {},
     "output_type": "execute_result"
    }
   ],
   "source": [
    "e = BruchzahlRingElement(Q, 200, 100)\n",
    "e"
   ]
  },
  {
   "cell_type": "code",
   "execution_count": 100,
   "metadata": {},
   "outputs": [
    {
     "data": {
      "text/plain": [
       "True"
      ]
     },
     "execution_count": 100,
     "metadata": {},
     "output_type": "execute_result"
    }
   ],
   "source": [
    "e == BruchzahlRingElement(Q, 2, 1)"
   ]
  },
  {
   "cell_type": "code",
   "execution_count": 101,
   "metadata": {},
   "outputs": [
    {
     "data": {
      "text/plain": [
       "[11/2]  in Q"
      ]
     },
     "execution_count": 101,
     "metadata": {},
     "output_type": "execute_result"
    }
   ],
   "source": [
    "e + BruchzahlRingElement(Q, 3, 4)"
   ]
  },
  {
   "cell_type": "code",
   "execution_count": 106,
   "metadata": {},
   "outputs": [
    {
     "data": {
      "text/plain": [
       "[-4/7]  in Q"
      ]
     },
     "execution_count": 106,
     "metadata": {},
     "output_type": "execute_result"
    }
   ],
   "source": [
    "BruchzahlRingElement(Q, 3, 8) - BruchzahlRingElement(Q, 7, 8)"
   ]
  }
 ],
 "metadata": {
  "kernelspec": {
   "display_name": "Python 3",
   "language": "python",
   "name": "python3"
  },
  "language_info": {
   "codemirror_mode": {
    "name": "ipython",
    "version": 3
   },
   "file_extension": ".py",
   "mimetype": "text/x-python",
   "name": "python",
   "nbconvert_exporter": "python",
   "pygments_lexer": "ipython3",
   "version": "3.6.5"
  }
 },
 "nbformat": 4,
 "nbformat_minor": 2
}
