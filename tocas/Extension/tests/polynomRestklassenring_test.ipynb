{
 "cells": [
  {
   "cell_type": "code",
   "execution_count": 1,
   "metadata": {},
   "outputs": [],
   "source": [
    "import project_path\n",
    "from Tocas import GanzzahlRestklassenring, Polynomring, PolynomringElement\n",
    "\n",
    "from Extension.PolynomRestklassenring import PolynomRestklassenring, PolynomRestklassenringElement\n",
    "from Extension.Bruchzahlring import Bruchzahlring, BruchzahlringElement"
   ]
  },
  {
   "cell_type": "code",
   "execution_count": 9,
   "metadata": {},
   "outputs": [
    {
     "name": "stdout",
     "output_type": "stream",
     "text": [
      "[1] + [1]*x^2 in Z/100Z[x]/([1] + [1]*x^2 + [1]*x^3)\n",
      "[1] + [1]*x + [1]*x^2 in Z/100Z[x]/([1] + [1]*x^2 + [1]*x^3)\n"
     ]
    }
   ],
   "source": [
    "Z_2 = GanzzahlRestklassenring(100)\n",
    "K_X = Polynomring(Z_2)\n",
    "x = PolynomringElement([1, 0, 1, 1], K_X)\n",
    "F = PolynomRestklassenring(x)\n",
    "a = PolynomRestklassenringElement([1, 0, 1], F)\n",
    "b = PolynomRestklassenringElement([1, 1, 1], F)\n",
    "\n",
    "print(a)\n",
    "print(b)\n"
   ]
  },
  {
   "cell_type": "code",
   "execution_count": 3,
   "metadata": {},
   "outputs": [
    {
     "name": "stdout",
     "output_type": "stream",
     "text": [
      "[1] + [1]*x^2 in Z/2Z[x]/([1] + [1]*x^2 + [1]*x^3)\n",
      "[1] + [1]*x^2 in Z/2Z[x]/([1] + [1]*x^2 + [1]*x^3)\n",
      "[0] in Z/2Z[x]/([1] + [1]*x^2 + [1]*x^3)\n"
     ]
    }
   ],
   "source": [
    "print(3 * a)\n",
    "print(Z_2.element(3) * a)\n",
    "print(F.null * a)"
   ]
  },
  {
   "cell_type": "code",
   "execution_count": 4,
   "metadata": {},
   "outputs": [
    {
     "name": "stdout",
     "output_type": "stream",
     "text": [
      "[1] in Z/2Z[x]/([1] + [1]*x^2 + [1]*x^3)\n",
      "[1] + [1]*x + [1]*x^2 in Z/2Z[x]/([1] + [1]*x^2 + [1]*x^3)\n",
      "[1] in Z/2Z[x]/([1] + [1]*x^2 + [1]*x^3)\n",
      "[1] + [1]*x^2 in Z/2Z[x]/([1] + [1]*x^2 + [1]*x^3)\n",
      "[1] in Z/2Z[x]/([1] + [1]*x^2 + [1]*x^3)\n"
     ]
    }
   ],
   "source": [
    "print(a * b)\n",
    "print(a.invers())\n",
    "print(a * a.invers())\n",
    "print(b.invers())\n",
    "print(b * b.invers())"
   ]
  },
  {
   "cell_type": "code",
   "execution_count": 5,
   "metadata": {},
   "outputs": [
    {
     "name": "stdout",
     "output_type": "stream",
     "text": [
      "[0] in Z/2Z[x]/([1] + [1]*x^2 + [1]*x^3)\n",
      "[0] in Z/2Z[x]/([1] + [1]*x^2 + [1]*x^3)\n",
      "[1]*x in Z/2Z[x]/([1] + [1]*x^2 + [1]*x^3)\n",
      "[1]*x + [1]*x^2 in Z/2Z[x]/([1] + [1]*x^2 + [1]*x^3)\n"
     ]
    }
   ],
   "source": [
    "print(F.random())\n",
    "print(F.random())\n",
    "print(F.random())\n",
    "print(F.random())"
   ]
  },
  {
   "cell_type": "code",
   "execution_count": 14,
   "metadata": {},
   "outputs": [
    {
     "data": {
      "text/plain": [
       "[1] + [9]*x + [36]*x^2 + [84]*x^3 + [26]*x^4 + [26]*x^5 + [84]*x^6 + [36]*x^7 + [9]*x^8 + [1]*x^9  in Z/100Z[x]"
      ]
     },
     "execution_count": 14,
     "metadata": {},
     "output_type": "execute_result"
    }
   ],
   "source": [
    "PolynomringElement([1, 1], K_X)**9\n"
   ]
  },
  {
   "cell_type": "code",
   "execution_count": null,
   "metadata": {},
   "outputs": [],
   "source": []
  },
  {
   "cell_type": "code",
   "execution_count": null,
   "metadata": {},
   "outputs": [],
   "source": []
  }
 ],
 "metadata": {
  "kernelspec": {
   "display_name": "Python 3",
   "language": "python",
   "name": "python3"
  },
  "language_info": {
   "codemirror_mode": {
    "name": "ipython",
    "version": 3
   },
   "file_extension": ".py",
   "mimetype": "text/x-python",
   "name": "python",
   "nbconvert_exporter": "python",
   "pygments_lexer": "ipython3",
   "version": "3.7.2"
  }
 },
 "nbformat": 4,
 "nbformat_minor": 2
}
